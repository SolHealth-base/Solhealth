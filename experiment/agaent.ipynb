{
 "cells": [
  {
   "cell_type": "code",
   "execution_count": 1,
   "metadata": {},
   "outputs": [
    {
     "name": "stdout",
     "output_type": "stream",
     "text": [
      "Requirement already satisfied: biopython in /home/godwin/anaconda3/lib/python3.11/site-packages (1.84)\n",
      "Requirement already satisfied: numpy in /home/godwin/anaconda3/lib/python3.11/site-packages (from biopython) (1.26.4)\n"
     ]
    }
   ],
   "source": [
    "!pip install biopython -q"
   ]
  },
  {
   "cell_type": "code",
   "execution_count": 1,
   "metadata": {},
   "outputs": [
    {
     "name": "stderr",
     "output_type": "stream",
     "text": [
      "/home/godwin/anaconda3/lib/python3.11/site-packages/pydantic/_internal/_config.py:341: UserWarning: Valid config keys have changed in V2:\n",
      "* 'allow_population_by_field_name' has been renamed to 'populate_by_name'\n",
      "* 'smart_union' has been removed\n",
      "  warnings.warn(message, UserWarning)\n"
     ]
    }
   ],
   "source": [
    "import operator\n",
    "from langchain_core.messages import BaseMessage\n",
    "\n",
    "from typing import TypedDict, Annotated, List\n",
    "from langchain_core.agents import AgentAction, AgentFinish\n",
    "from semantic_router.encoders import HuggingFaceEncoder, OpenAIEncoder\n",
    "from langchain_core.prompts import ChatPromptTemplate, MessagesPlaceholder, PromptTemplate"
   ]
  },
  {
   "cell_type": "code",
   "execution_count": 2,
   "metadata": {},
   "outputs": [],
   "source": [
    "import os\n",
    "from Bio import Entrez\n",
    "from serpapi import GoogleSearch\n",
    "from dotenv import load_dotenv\n",
    "from langchain_core.tools import tool\n",
    "\n",
    "\n",
    "import requests\n",
    "from bs4 import BeautifulSoup\n",
    "\n",
    "load_dotenv()\n",
    "\n",
    "serpapi_params = {\n",
    "    \"engine\": \"google\",\n",
    "    \"api_key\": os.getenv(\"SERPAPI_KEY\")\n",
    "}\n",
    "\n",
    "\n",
    "# Define your email (required by PubMed)\n",
    "Entrez.email = \"hundredgodwin@gmail.com\"\n",
    "\n",
    "def drug_info(links):\n",
    "\n",
    "    results = []\n",
    "    for link in links:\n",
    "\n",
    "        response = requests.get(link)\n",
    "\n",
    "        if response.status_code == 200:\n",
    "            \n",
    "            soup = BeautifulSoup(response.text, \"html.parser\")\n",
    "            summary_container = soup.find('div', class_=\"monograph_cont\")\n",
    "            uses_container = soup.find_all('div', class_ = \"pgContent\")\n",
    "            summary, uses = summary_container.text, uses_container[1].text\n",
    "            result = f\"{summary}\\n\\n{uses}\"\n",
    "            results.append(result)\n",
    "\n",
    "    final_response = \"\\n\".join([i for i in results])\n",
    "\n",
    "    return final_response\n",
    "\n",
    "def extract_pubmed_abstract(links):\n",
    "\n",
    "    results = []\n",
    "    for link in links:\n",
    "\n",
    "        response = requests.get(link)\n",
    "\n",
    "        if response.status_code == 200:\n",
    "            \n",
    "            soup = BeautifulSoup(response.text, \"html.parser\")\n",
    "            abstact_container = soup.find('div', class_=\"abstract\")\n",
    "            abstract = abstact_container.text\n",
    "            results.append(abstract)\n",
    "\n",
    "    final_response = \"\\n\".join([i for i in results])\n",
    "    return final_response\n",
    "\n",
    "@tool\n",
    "def pubmed_search(query: str):\n",
    "    \"\"\"Search for articles on PubMed.\"\"\"\n",
    "    handle = Entrez.esearch(db=\"pubmed\", term=query, retmax=3)\n",
    "    record = Entrez.read(handle)\n",
    "    handle.close()\n",
    "\n",
    "    if record[\"IdList\"]:\n",
    "        ids = record[\"IdList\"]\n",
    "        article_links = [f'https://pubmed.ncbi.nlm.nih.gov/{id}/' for id in ids]\n",
    "    \n",
    "        article = extract_pubmed_abstract(article_links)\n",
    "    \n",
    "    \n",
    "    #     # Fetch summary for each ID\n",
    "        \n",
    "    #     handle = Entrez.esummary(db=\"pubmed\", id=ids)\n",
    "    #     summary = Entrez.read(handle)\n",
    "    #     handle.close()\n",
    "    #top_results = \"\\n\".join([f'{item[\"Title\"]}: https://pubmed.ncbi.nlm.nih.gov/{item[\"Id\"]}/' for item in summary])\n",
    "        return f\"Top PubMed search results for '{query}':\\n{article}\"\n",
    "    else:\n",
    "        return \"No articles found.\"\n",
    "  \n",
    "@tool\n",
    "def web_search(query: str):\n",
    "    \"\"\"Finds research specific knowledge information using Google search. \"\"\"\n",
    "\n",
    "    search = GoogleSearch({\n",
    "        **serpapi_params,\n",
    "        \"q\": query,\n",
    "        \"num\": 5\n",
    "    })\n",
    "    results = search.get_dict()[\"organic_results\"]\n",
    "    contexts = \"\\n---\\n\".join(\n",
    "        [\"\\n\".join([x[\"title\"], x[\"snippet\"], x[\"link\"]]) for x in results]\n",
    "    )\n",
    "    return contexts\n",
    "\n",
    "\n",
    "    \n",
    "@tool\n",
    "def drug_search(query: str):\n",
    "    \"\"\"Search for medical information on WebMD.\"\"\"\n",
    "    search_url = f\"https://www.rxlist.com/search/rxl/{query}\"\n",
    "    response = requests.get(search_url)\n",
    "    \n",
    "    if response.status_code == 200:# Print the first 5 links\n",
    "        \n",
    "        soup = BeautifulSoup(response.text, \"html.parser\")\n",
    "        results_container = soup.find('div', class_=\"searchresults main\")\n",
    "        items = results_container.find_all('li', limit=3)\n",
    "\n",
    "        if items:\n",
    "            results = [item.find('a') for item in items]\n",
    "            links = [link['href'] for link in results]\n",
    "            top_results = \"\\n\".join([result.text + \": \" + result['href'] for result in results])\n",
    "            drugs_info = drug_info(links)\n",
    "\n",
    "\n",
    "            return f\"Top rxlist search results for '{query}':\\n{drugs_info}\"\n",
    "        else:\n",
    "            return \"No relevant WebMD results found.\"\n",
    "    else:\n",
    "        return \"Failed to retrieve WebMD results.\"\n",
    "\n",
    "\n",
    "def webmd_search(query: str):\n",
    "    \"\"\"Search for medical information on WebMD.\"\"\"\n",
    "    search_url = f\"https://www.webmd.com/search/search_results/default.aspx?query={query}\"\n",
    "    response = requests.get(search_url)\n",
    "    print(response)\n",
    "    \n",
    "    if response.status_code == 200:\n",
    "        soup = BeautifulSoup(response.text, \"html.parser\")\n",
    "        results = soup.find_all(\"a\", class_=\"result-title\", limit=3)\n",
    "        if results:\n",
    "            top_results = \"\\n\".join([result.text + \": \" + result['href'] for result in results])\n",
    "            return f\"Top WebMD search results for '{query}':\\n{top_results}\"\n",
    "        else:\n",
    "            return \"No relevant WebMD results found.\"\n",
    "    else:\n",
    "        return \"Failed to retrieve WebMD results.\"\n"
   ]
  },
  {
   "cell_type": "code",
   "execution_count": 3,
   "metadata": {},
   "outputs": [],
   "source": [
    "import serpapi"
   ]
  },
  {
   "cell_type": "code",
   "execution_count": 6,
   "metadata": {},
   "outputs": [
    {
     "ename": "AttributeError",
     "evalue": "module 'serpapi' has no attribute 'version'",
     "output_type": "error",
     "traceback": [
      "\u001b[0;31m---------------------------------------------------------------------------\u001b[0m",
      "\u001b[0;31mAttributeError\u001b[0m                            Traceback (most recent call last)",
      "Cell \u001b[0;32mIn[6], line 1\u001b[0m\n\u001b[0;32m----> 1\u001b[0m serpapi\u001b[38;5;241m.\u001b[39mversion\n",
      "\u001b[0;31mAttributeError\u001b[0m: module 'serpapi' has no attribute 'version'"
     ]
    }
   ],
   "source": [
    "serpapi.version"
   ]
  },
  {
   "cell_type": "code",
   "execution_count": 2,
   "metadata": {},
   "outputs": [],
   "source": [
    "x = []\n",
    "if x:\n",
    "    print(2)"
   ]
  },
  {
   "cell_type": "code",
   "execution_count": null,
   "metadata": {},
   "outputs": [],
   "source": []
  },
  {
   "cell_type": "code",
   "execution_count": 48,
   "metadata": {},
   "outputs": [],
   "source": [
    "def healthline_search(query: str):\n",
    "    \"\"\"Search Healthline for medical information.\"\"\"\n",
    "    search_url = f\"https://www.healthline.com/search?q1={query}\"\n",
    "    response = requests.get(search_url)\n",
    "    \n",
    "    if response.status_code == 200:\n",
    "        soup = BeautifulSoup(response.text, \"html.parser\")\n",
    "        results = soup.find(\"div\", class_=\"css-1hm2gwy\")\n",
    "        print(results)\n",
    "        if results:\n",
    "            top_results = \"\\n\".join([result.text.strip() + \": \" + result['href'] for result in results])\n",
    "            return f\"Top Healthline search results for '{query}':\\n{top_results}\"\n",
    "        else:\n",
    "            return \"No relevant Healthline results found.\"\n",
    "    else:\n",
    "        return \"Failed to retrieve Healthline results.\""
   ]
  },
  {
   "cell_type": "code",
   "execution_count": 49,
   "metadata": {},
   "outputs": [],
   "source": [
    "# search_url = f\"https://www.healthline.com/search?q1=Menstration\"\n",
    "# response = requests.get(search_url)\n",
    "\n",
    "# if response.status_code == 200:\n",
    "#     soup = BeautifulSoup(response.text, \"html.parser\")\n",
    "#     results = soup.find(\"div\", class_=\"css-15x6pli\")\n",
    "#     results = soup.find_all('a', class_ = 'css-1hm2gwy')\n",
    "#     print(results)"
   ]
  },
  {
   "cell_type": "code",
   "execution_count": 73,
   "metadata": {},
   "outputs": [],
   "source": [
    "from bs4 import BeautifulSoup\n",
    "import requests\n",
    "from Bio import Entrez\n",
    "from serpapi import GoogleSearch\n",
    "\n",
    "# PubMed Search Tool\n",
    "@tool('pubmed_search')\n",
    "def pubmed_search(query: str):\n",
    "    \"\"\"\n",
    "    Searches PubMed for scientific articles related to a given medical query.\n",
    "    Returns the top articles and links to their abstracts.\n",
    "    PubMed is a trusted source for peer-reviewed medical research articles.\n",
    "    \"\"\"\n",
    "    handle = Entrez.esearch(db=\"pubmed\", term=query, retmax=3)\n",
    "    record = Entrez.read(handle)\n",
    "    handle.close()\n",
    "\n",
    "    if record[\"IdList\"]:\n",
    "        ids = record[\"IdList\"]\n",
    "        article_links = [f'https://pubmed.ncbi.nlm.nih.gov/{id}/' for id in ids]\n",
    "\n",
    "        # Extract article abstracts (you'll need an actual method for this)\n",
    "        article = extract_pubmed_abstract(article_links)\n",
    "\n",
    "        return f\"Top PubMed search results for '{query}':\\n{article}\"\n",
    "    else:\n",
    "        return \"No articles found.\"\n",
    "\n",
    "# Web Search Tool using Google Search\n",
    "@tool('web_search')\n",
    "def web_search(query: str):\n",
    "    \"\"\"\n",
    "    Conducts a Google search using a specific medical query to find relevant\n",
    "    health information or research articles. Returns the top 5 search results \n",
    "    with titles, snippets, and links.\n",
    "    \"\"\"\n",
    "    search = GoogleSearch({\n",
    "        **serpapi_params,\n",
    "        \"q\": query,\n",
    "        \"num\": 5\n",
    "    })\n",
    "    results = search.get_dict()[\"organic_results\"]\n",
    "\n",
    "    # Formatting results into readable output\n",
    "    contexts = \"\\n---\\n\".join(\n",
    "        [\"\\n\".join([x[\"title\"], x[\"snippet\"], x[\"link\"]]) for x in results]\n",
    "    )\n",
    "    return contexts\n",
    "\n",
    "# Drug Search Tool on RxList\n",
    "@tool('drug_search')\n",
    "def drug_search(query: str):\n",
    "    \"\"\"\n",
    "    Searches RxList for detailed drug information, including uses, side effects, \n",
    "    and warnings. RxList is a trusted source for information on prescription \n",
    "    and over-the-counter drugs.\n",
    "    \"\"\"\n",
    "    search_url = f\"https://www.rxlist.com/search/rxl/{query}\"\n",
    "    response = requests.get(search_url)\n",
    "    \n",
    "    if response.status_code == 200:\n",
    "        soup = BeautifulSoup(response.text, \"html.parser\")\n",
    "        results_container = soup.find('div', class_=\"searchresults main\")\n",
    "        \n",
    "        if results_container:\n",
    "            items = results_container.find_all('li', limit=3)\n",
    "            results = [item.find('a') for item in items]\n",
    "            links = [link['href'] for link in results]\n",
    "\n",
    "            # Fetch drug information (requires implementation of drug_info method)\n",
    "            drugs_info = drug_info(links)\n",
    "\n",
    "            return f\"Top RxList search results for '{query}':\\n{drugs_info}\"\n",
    "        else:\n",
    "            return \"No relevant RxList results found.\"\n",
    "    else:\n",
    "        return \"Failed to retrieve RxList results.\"\n",
    "    \n",
    "# @tool(\"query_rewrite\")\n",
    "# def query_rewrite(user_query: str):\n",
    "#     \"\"\"\n",
    "#     Rewrites the user's medical query by correcting any typographical errors and improving clarity \n",
    "#     to ensure the query is easily understood and more precise.\n",
    "    \n",
    "#     - `user_query`: The original query from the user, which may contain typos or unclear phrasing.\n",
    "#     \"\"\"\n",
    "#     # Use language processing techniques or external services to correct and improve the query.\n",
    "#     corrected_query = correct_typo_and_improve_clarity(user_query)\n",
    "    \n",
    "#     return corrected_query\n",
    "\n",
    "\n",
    "@tool(\"medical_response\")\n",
    "def medical_response(response: str, research_steps):\n",
    "    \"\"\"\n",
    "    Provides a detailed and reliable answer to the user's medical query.\n",
    "    \n",
    "    - `response`: A well-crafted, concise, and medically accurate response to the user's question.\n",
    "    \"\"\"\n",
    "\n",
    "    if type(research_steps) is list:\n",
    "        research_steps = \"\\n\".join([f\"- {r}\" for r in research_steps])\n",
    "    # if type(sources) is list:\n",
    "    #     sources = \"\\n\".join([f\"- {s}\" for s in sources])\n",
    "    return \"\"\n"
   ]
  },
  {
   "cell_type": "code",
   "execution_count": 74,
   "metadata": {},
   "outputs": [],
   "source": [
    "from langchain_core.prompts import ChatPromptTemplate, MessagesPlaceholder\n",
    "\n",
    "system_prompt = \"\"\"You are the oracle, the great AI decision maker.\n",
    "Given the user's query you must decide what to do with it based on the\n",
    "list of tools provided to you.\n",
    "\n",
    "If you see that a tool has been used (in the scratchpad) with a particular\n",
    "query, do NOT use that same tool with the same query again. Also, do NOT use\n",
    "any tool more than twice (ie, if the tool appears in the scratchpad twice, do\n",
    "not use it again).\n",
    "\n",
    "You should aim to collect information from a diverse range of sources before\n",
    "providing the answer to the user. Once you have collected plenty of information\n",
    "to answer the user's question (stored in the scratchpad) use the medical_response\n",
    "tool.\"\"\"\n",
    "\n",
    "prompt = ChatPromptTemplate.from_messages([\n",
    "    (\"system\", system_prompt),\n",
    "    MessagesPlaceholder(variable_name=\"chat_history\"),\n",
    "    (\"user\", \"{input}\"),\n",
    "    (\"assistant\", \"scratchpad: {scratchpad}\"),\n",
    "])"
   ]
  },
  {
   "cell_type": "code",
   "execution_count": 75,
   "metadata": {},
   "outputs": [],
   "source": [
    "tools=[\n",
    "  pubmed_search,\n",
    "  web_search,\n",
    "  drug_search,\n",
    "  medical_response,\n",
    "]\n",
    "\n",
    "\n",
    "class AgentState(TypedDict):\n",
    "    input: str\n",
    "    chat_history: list[BaseMessage]\n",
    "    intermediate_steps: Annotated[list[tuple[AgentAction, str]], operator.add]\n",
    "\n",
    "# define a function to transform intermediate_steps from list\n",
    "# of AgentAction to scratchpad string\n",
    "def create_scratchpad(intermediate_steps: list[AgentAction]):\n",
    "    research_steps = []\n",
    "    for i, action in enumerate(intermediate_steps):\n",
    "        if action.log != \"TBD\":\n",
    "            # this was the ToolExecution\n",
    "           \n",
    "            research_steps.append(\n",
    "                f\"Tool: {action.tool}, input: {action.tool_input}\\n\"\n",
    "                f\"Output: {action.log}\"\n",
    "            )\n",
    "    return \"\\n---\\n\".join(research_steps)"
   ]
  },
  {
   "cell_type": "code",
   "execution_count": 76,
   "metadata": {},
   "outputs": [],
   "source": [
    "from langchain_openai import ChatOpenAI\n",
    "\n",
    "\n",
    "llm = ChatOpenAI(model = \"gpt-4o\")\n",
    "\n",
    "oracle = (\n",
    "    {\n",
    "        \"input\": lambda x: x[\"input\"],\n",
    "        \"chat_history\": lambda x: x[\"chat_history\"],\n",
    "        \"scratchpad\": lambda x: create_scratchpad(\n",
    "            intermediate_steps=x[\"intermediate_steps\"]\n",
    "        ),\n",
    "    }\n",
    "    | prompt | llm.bind_tools(tools=tools, tool_choice='auto')\n",
    ")"
   ]
  },
  {
   "cell_type": "code",
   "execution_count": 77,
   "metadata": {},
   "outputs": [],
   "source": [
    "inputs = {\n",
    "    \"input\": \"\"\"What is malaria\"\"\",\n",
    "    \"chat_history\": [],\n",
    "    \"intermediate_steps\": [],\n",
    "}\n",
    "out = oracle.invoke(inputs)"
   ]
  },
  {
   "cell_type": "code",
   "execution_count": 78,
   "metadata": {},
   "outputs": [],
   "source": [
    "def run_oracle(state: list):\n",
    "    # print(\"run_oracle\")\n",
    "    # print(f\"intermediate_steps: {state['intermediate_steps']}\")\n",
    "    print(state)\n",
    "    out = oracle.invoke(state)\n",
    "    tool_name = out.tool_calls[0][\"name\"]\n",
    "    tool_args = out.tool_calls[0][\"args\"]\n",
    "    action_out = AgentAction(\n",
    "        tool=tool_name,\n",
    "        tool_input=tool_args,\n",
    "        log=\"TBD\"\n",
    "    )\n",
    "    return {\n",
    "        \"intermediate_steps\": [action_out]\n",
    "    }\n",
    "\n",
    "def router(state: list):\n",
    "    # return the tool name to use\n",
    "    if isinstance(state[\"intermediate_steps\"], list):\n",
    "        return state[\"intermediate_steps\"][-1].tool\n",
    "    else:\n",
    "        # if we output bad format go to final answer\n",
    "        print(\"Router invalid format\")\n",
    "        return \"medical_response\""
   ]
  },
  {
   "cell_type": "code",
   "execution_count": 79,
   "metadata": {},
   "outputs": [],
   "source": [
    "tool_str_to_func = {\n",
    "   \"pubmed_search\": pubmed_search,\n",
    "    \"web_search\": web_search,\n",
    "    \"drug_search\": drug_search,\n",
    "   \"medical_response\": medical_response\n",
    "}\n",
    "\n",
    "def run_tool(state: list):\n",
    "    # use this as helper function so we repeat less code\n",
    "    tool_name = state[\"intermediate_steps\"][-1].tool\n",
    "    tool_args = state[\"intermediate_steps\"][-1].tool_input\n",
    "    print(f\"{tool_name}.invoke(input={tool_args})\")\n",
    "    # run tool\n",
    "    out = tool_str_to_func[tool_name].invoke(input=tool_args)\n",
    "    action_out = AgentAction(\n",
    "        tool=tool_name,\n",
    "        tool_input=tool_args,\n",
    "        log=str(out)\n",
    "    )\n",
    "    return {\"intermediate_steps\": [action_out]}"
   ]
  },
  {
   "cell_type": "code",
   "execution_count": 80,
   "metadata": {},
   "outputs": [],
   "source": [
    "from langgraph.graph import StateGraph, END\n",
    "\n",
    "graph = StateGraph(AgentState)\n",
    "\n",
    "graph.add_node(\"oracle\", run_oracle)\n",
    "graph.add_node(\"pubmed_search\", run_tool)\n",
    "graph.add_node(\"web_search\", run_tool)\n",
    "graph.add_node(\"drug_search\", run_tool)\n",
    "graph.add_node(\"medical_response\", run_tool)\n",
    "\n",
    "graph.set_entry_point(\"oracle\")\n",
    "\n",
    "graph.add_conditional_edges(\n",
    "    source=\"oracle\",  # where in graph to start\n",
    "    path=router,  # function to determine which node is called\n",
    ")\n",
    "\n",
    "# create edges from each tool back to the oracle\n",
    "for tool_obj in tools:\n",
    "    if tool_obj.name != \"medical_response\":\n",
    "        graph.add_edge(tool_obj.name, \"oracle\")\n",
    "\n",
    "# if anything goes to final answer, it must then move to END\n",
    "graph.add_edge(\"medical_response\", END)\n",
    "\n",
    "runnable = graph.compile()"
   ]
  },
  {
   "cell_type": "code",
   "execution_count": 81,
   "metadata": {},
   "outputs": [
    {
     "data": {
      "image/png": "[encoded data removed]",
      "text/plain": [
       "<IPython.core.display.Image object>"
      ]
     },
     "execution_count": 81,
     "metadata": {},
     "output_type": "execute_result"
    }
   ],
   "source": [
    "from IPython.display import Image\n",
    "\n",
    "Image(runnable.get_graph().draw_png())"
   ]
  },
  {
   "cell_type": "code",
   "execution_count": 82,
   "metadata": {},
   "outputs": [
    {
     "name": "stdout",
     "output_type": "stream",
     "text": [
      "{'input': 'tell me something interesting about typhoid patients', 'chat_history': [], 'intermediate_steps': []}\n",
      "pubmed_search.invoke(input={'query': 'interesting facts about typhoid patients'})\n",
      "{'input': 'tell me something interesting about typhoid patients', 'chat_history': [], 'intermediate_steps': [AgentAction(tool='pubmed_search', tool_input={'query': 'interesting facts about typhoid patients'}, log='TBD'), AgentAction(tool='pubmed_search', tool_input={'query': 'interesting facts about typhoid patients'}, log='No articles found.')]}\n",
      "web_search.invoke(input={'query': 'interesting facts about typhoid patients'})\n",
      "{'input': 'tell me something interesting about typhoid patients', 'chat_history': [], 'intermediate_steps': [AgentAction(tool='pubmed_search', tool_input={'query': 'interesting facts about typhoid patients'}, log='TBD'), AgentAction(tool='pubmed_search', tool_input={'query': 'interesting facts about typhoid patients'}, log='No articles found.'), AgentAction(tool='web_search', tool_input={'query': 'interesting facts about typhoid patients'}, log='TBD'), AgentAction(tool='web_search', tool_input={'query': 'interesting facts about typhoid patients'}, log=\"Typhoid\\nKey facts · As of 2019, an estimated 9 million people get sick from typhoid and 110 000 people die from it every year. · Symptoms include ...\\nhttps://www.who.int/news-room/fact-sheets/detail/typhoid\\n---\\nTyphoid Fever Fact Sheet\\nSome infected persons may not show any symptoms (called typhoid fever “carriers”), but can spread the bacteria to others through their feces and urine for many ...\\nhttps://health.maryland.gov/phpa/IDEHASharedDocuments/typhoid_fever.pdf\\n---\\n10 Important Facts About Typhoid Fever You Should Know\\nTyphoid Fever is not a Contagious Illness; Typhoid Fever Causes Characteristic Skin Rashes; Typhoid Spreads Through Contaminated Food and Water; Children are ...\\nhttps://www.metropolisindia.com/blog/preventive-healthcare/typhoid-fever-facts\\n---\\nTyphoid fever - Symptoms & causes\\nTyphoid fever, also called enteric fever, is caused by salmonella bacteria. Typhoid fever is rare in places where few people carry the bacteria.\\nhttps://www.mayoclinic.org/diseases-conditions/typhoid-fever/symptoms-causes/syc-20378661\\n---\\nTyphoid Fever: Causes, Symptoms & Treatment\\nAbout 5% of people who have recovered from typhoid fever are still contagious a year later or longer. This is called a long-term carrier. It's important to be ...\\nhttps://my.clevelandclinic.org/health/diseases/17730-typhoid-fever\")]}\n",
      "medical_response.invoke(input={'response': 'Typhoid fever, caused by the bacterium Salmonella Typhi, is an interesting condition with several notable aspects. Approximately 9 million people are infected annually, resulting in about 110,000 deaths. Some patients, known as carriers, may not show symptoms but can still spread the bacteria through their feces and urine. Typhoid fever is also known for causing characteristic skin rashes, and it is not contagious through casual contact but spreads through contaminated food and water. Additionally, around 5% of individuals who recover from typhoid fever can continue to carry and spread the bacteria for a year or longer.', 'research_steps': [{'tool': 'web_search', 'input': 'interesting facts about typhoid patients', 'results': [{'title': 'Typhoid', 'snippet': 'Key facts · As of 2019, an estimated 9 million people get sick from typhoid and 110 000 people die from it every year. · Symptoms include ...', 'link': 'https://www.who.int/news-room/fact-sheets/detail/typhoid'}, {'title': 'Typhoid Fever Fact Sheet', 'snippet': 'Some infected persons may not show any symptoms (called typhoid fever “carriers”), but can spread the bacteria to others through their feces and urine for many ...', 'link': 'https://health.maryland.gov/phpa/IDEHASharedDocuments/typhoid_fever.pdf'}, {'title': '10 Important Facts About Typhoid Fever You Should Know', 'snippet': 'Typhoid Fever is not a Contagious Illness; Typhoid Fever Causes Characteristic Skin Rashes; Typhoid Spreads Through Contaminated Food and Water; Children are ...', 'link': 'https://www.metropolisindia.com/blog/preventive-healthcare/typhoid-fever-facts'}, {'title': 'Typhoid fever - Symptoms & causes', 'snippet': 'Typhoid fever, also called enteric fever, is caused by salmonella bacteria. Typhoid fever is rare in places where few people carry the bacteria.', 'link': 'https://www.mayoclinic.org/diseases-conditions/typhoid-fever/symptoms-causes/syc-20378661'}, {'title': 'Typhoid Fever: Causes, Symptoms & Treatment', 'snippet': \"About 5% of people who have recovered from typhoid fever are still contagious a year later or longer. This is called a long-term carrier. It's important to be ...\", 'link': 'https://my.clevelandclinic.org/health/diseases/17730-typhoid-fever'}]}]})\n"
     ]
    }
   ],
   "source": [
    "out = runnable.invoke({\n",
    "    \"input\": \"tell me something interesting about typhoid patients\",\n",
    "    \"chat_history\": [],\n",
    "})"
   ]
  },
  {
   "cell_type": "code",
   "execution_count": 84,
   "metadata": {},
   "outputs": [],
   "source": [
    "xr = out[\"intermediate_steps\"][-1].tool_input"
   ]
  },
  {
   "cell_type": "code",
   "execution_count": 87,
   "metadata": {},
   "outputs": [
    {
     "name": "stdout",
     "output_type": "stream",
     "text": [
      "Typhoid fever, caused by the bacterium Salmonella Typhi, is an interesting condition with several notable aspects. Approximately 9 million people are infected annually, resulting in about 110,000 deaths. Some patients, known as carriers, may not show symptoms but can still spread the bacteria through their feces and urine. Typhoid fever is also known for causing characteristic skin rashes, and it is not contagious through casual contact but spreads through contaminated food and water. Additionally, around 5% of individuals who recover from typhoid fever can continue to carry and spread the bacteria for a year or longer.\n"
     ]
    }
   ],
   "source": [
    "print(xr['response'])"
   ]
  },
  {
   "cell_type": "code",
   "execution_count": null,
   "metadata": {},
   "outputs": [],
   "source": []
  },
  {
   "cell_type": "code",
   "execution_count": 92,
   "metadata": {},
   "outputs": [],
   "source": [
    "link = 'https://www.rxlist.com/kaletra-capsules-drug.htm'\n",
    "response = requests.get(link)\n",
    "\n",
    "if response.status_code == 200:\n",
    "    \n",
    "    soup = BeautifulSoup(response.text, \"html.parser\")\n",
    "    summary_container = soup.find('div', class_=\"monograph_cont\")\n",
    "    uses_container = soup.find_all('div', class_ = \"pgContent\")\n",
    "    summary, uses = summary_container.text, uses_container[1].text"
   ]
  },
  {
   "cell_type": "code",
   "execution_count": 96,
   "metadata": {},
   "outputs": [
    {
     "name": "stdout",
     "output_type": "stream",
     "text": [
      "\n",
      "Uses for Kaletra Capsules\n",
      "KALETRA is indicated in combination with other\n",
      "antiretroviral agents for the treatment of HIV1 infection in adults and\n",
      "pediatric patients (14 days and older).\n",
      "The following points should be considered when initiating\n",
      "therapy with KALETRA:\n",
      "\n",
      "The use of other active agents with KALETRA is associated\n",
      "    with a greater likelihood of treatment response [see Microbiology and Clinical\n",
      "      Studies].\n",
      "Genotypic or phenotypic testing and/or treatment history\n",
      "    should guide the use of KALETRA [see Microbiology]. The number of\n",
      "    baseline lopinavir resistance-associated substitutions affects the virologic\n",
      "    response to KALETRA [see Microbiology].\n",
      "\n",
      "Dosage for Kaletra Capsules\n",
      "KALETRA capsules must be taken with food.\n",
      "Adult Patients\n",
      "\n",
      "KALETRA capsules 400/100 mg (given as three 133/33 mg\n",
      "    capsules) twice daily.\n",
      "KALETRA capsules 800/200 mg (given as six 133/33 mg\n",
      "    capsules) once daily in patients with less than three lopinavir\n",
      "    resistance-associated substitutions.\n",
      "\n",
      "Once daily administration of KALETRA is not recommended\n",
      "for adult patients with three or more of the following lopinavir\n",
      "resistance-associated substitutions: L10F/I/R/V, K20M/N/R, L24I, L33F, M36I,\n",
      "I47V, G48V, I54L/T/V, V82A/C/F/S/T, and I84V [see Microbiology].\n",
      "KALETRA should not be administered once daily in\n",
      "combination with carbamazepine, phenobarbital, or phenytoin [see DRUG\n",
      "INTERACTIONS].\n",
      "Concomitant Therapy: Efavirenz, Nevirapine, Or Nelfinavir\n",
      "[see CLINICAL PHARMACOLOGY and DRUG INTERACTIONS]\n",
      "KALETRA capsules should not be administered as a\n",
      "once-daily regimen in combination with efavirenz, nevirapine, or nelfinavir.\n",
      "\n",
      "A dose increase is recommended for all patients who use\n",
      "    KALETRA capsules. The recommended dose of KALETRA capsules is 533/133 mg twice\n",
      "    daily (given as four 133/33 mg capsules twice daily taken with food) when used\n",
      "    in combination with efavirenz, nevirapine, or nelfinavir.\n",
      "\n",
      "Pediatric Patients\n",
      "KALETRA capsules should not be administered once daily in\n",
      "pediatric patients less than 18 years of age.\n",
      "For children less than 12 years of age who weigh greater\n",
      "than 40 kg or for children greater than 12 years of age, the maximum dose of\n",
      "400/100 mg twice daily (given as three 133/33 mg capsules twice daily taken\n",
      "with food) is recommended.\n",
      "The use of KALETRA oral solution is recommended for\n",
      "children 14 days to 12 years of age who weigh less than 40 kg and in those\n",
      "children who cannot swallow capsules. Please refer to the KALETRA oral solution\n",
      "full prescribing information for pediatric dosage and administration and other\n",
      "important information for these children.\n",
      "Concomitant Therapy: Efavirenz, Nevirapine, Or Nelfinavir\n",
      "A dose increase is recommended for all pediatric patients\n",
      "who use KALETRA capsules. For children weighing more than 45 kg, the\n",
      "recommended dose of KALETRA capsules is 533/133 mg twice daily (given as four\n",
      "133/33 mg capsules twice daily taken with food) when used in combination with\n",
      "efavirenz, nevirapine, or nelfinavir.\n",
      "HOW SUPPLIED\n",
      "Dosage Forms And Strengths\n",
      "KALETRA (lopinavir/ritonavir) capsules are orange soft\n",
      "gelatin capsules imprinted with the “a” logo and the code PK. KALETRA is\n",
      "available as 133.3 mg lopinavir/33.3 mg ritonavir capsules.\n",
      "Storage And Handling\n",
      "KALETRA (lopinavir/ritonavir) capsules are orange soft\n",
      "gelatin capsules imprinted with the “a” logo and the code PK. KALETRA is\n",
      "available as 133.3 mg lopinavir/33.3 mg ritonavir capsules in the following\n",
      "package sizes:\n",
      "Bottles of 180 capsules each....................(NDC 0074-3959-77)\n",
      "Recommended storage: Store KALETRA soft gelatin capsules\n",
      "at 36 -46°F (2 -8°C) until dispensed. Avoid exposure to excessive heat. For\n",
      "patient use, refrigerated KALETRA capsules remain stable until the expiration\n",
      "date printed on the label. If stored at room temperature up to 77°F (25°C),\n",
      "capsules should be used within 2 months.\n",
      "AbbVie Inc., North Chicago, IL 60064 USA. Revised:\n",
      "Sep 2016\n",
      "\n"
     ]
    }
   ],
   "source": [
    "print(uses)"
   ]
  },
  {
   "cell_type": "code",
   "execution_count": null,
   "metadata": {},
   "outputs": [],
   "source": []
  },
  {
   "cell_type": "code",
   "execution_count": 60,
   "metadata": {},
   "outputs": [],
   "source": [
    "x = web_search(\"What is malaria\")"
   ]
  },
  {
   "cell_type": "code",
   "execution_count": 63,
   "metadata": {},
   "outputs": [
    {
     "name": "stdout",
     "output_type": "stream",
     "text": [
      "Malaria - Symptoms & causes\n",
      "Malaria is a disease caused by a parasite. The parasite is spread to humans through the bites of infected mosquitoes. People who have malaria usually feel ...\n",
      "https://www.mayoclinic.org/diseases-conditions/malaria/symptoms-causes/syc-20351184\n",
      "---\n",
      "Malaria\n",
      "Malaria is a life-threatening disease spread to humans by some types of mosquitoes. It is mostly found in tropical countries. It is preventable ...\n",
      "https://www.who.int/news-room/fact-sheets/detail/malaria\n",
      "---\n",
      "Malaria: Causes, Symptoms, Diagnosis, Treatment & ...\n",
      "Malaria is a serious, sometimes fatal, illness caused by parasites deposited into people by infected mosquitos. It can be cured with the right medication.\n",
      "https://my.clevelandclinic.org/health/diseases/15014-malaria\n"
     ]
    }
   ],
   "source": [
    "print(x)"
   ]
  },
  {
   "cell_type": "code",
   "execution_count": null,
   "metadata": {},
   "outputs": [],
   "source": []
  },
  {
   "cell_type": "code",
   "execution_count": 41,
   "metadata": {},
   "outputs": [
    {
     "name": "stdout",
     "output_type": "stream",
     "text": [
      "<Response [200]>\n"
     ]
    }
   ],
   "source": [
    "search_url = f\"https://www.rxlist.com/search/rxl/paracetamol\"\n",
    "response = requests.get(search_url)\n",
    "soup = BeautifulSoup(response.text, \"html.parser\")\n",
    "results = soup.find_all(\"li\", class_=\"searchresults main\", limit=3)\n",
    "print(response)"
   ]
  },
  {
   "cell_type": "code",
   "execution_count": 39,
   "metadata": {},
   "outputs": [],
   "source": [
    "results = soup.find_all('li', class_=['searchresults main'], limit=5)"
   ]
  },
  {
   "cell_type": "code",
   "execution_count": 48,
   "metadata": {},
   "outputs": [
    {
     "name": "stdout",
     "output_type": "stream",
     "text": [
      "<div class=\"searchresults main\">\n",
      "<h3>Drugs</h3>\n",
      "<ul>\n",
      "<li><a href=\"https://www.rxlist.com/supartz-fx-drug.htm\"><span class=\"brand\">Brand: Supartz FX</span><span class=\"generic\">Generic: Sodium Hyaluronate Solution</span></a></li>\n",
      "</ul>\n",
      "<div class=\"gradient\"></div>\n",
      "<div class=\"more\">\n",
      "<span class=\"icon-arrow-right2\"></span>\n",
      "</div>\n",
      "</div>\n"
     ]
    }
   ],
   "source": [
    "import requests\n",
    "from bs4 import BeautifulSoup\n",
    "\n",
    "# URL of the page to scrape\n",
    "search_url = \"https://www.rxlist.com/search/rxl/paracetamol\"\n",
    "response = requests.get(search_url)\n",
    "\n",
    "# Parse the page content with BeautifulSoup\n",
    "soup = BeautifulSoup(response.text, \"html.parser\")\n",
    "\n",
    "# Find the container with the class 'searchresults main'\n",
    "results_container = soup.find('div', class_=\"searchresults main\")\n",
    "print(results_container)"
   ]
  },
  {
   "cell_type": "code",
   "execution_count": null,
   "metadata": {},
   "outputs": [],
   "source": [
    "\n",
    "# Find all 'li' elements within that container\n",
    "items = results_container.find_all('li', limit=5)\n",
    "\n",
    "# Print the first 5 links\n",
    "for item in items:\n",
    "    link = item.find('a')\n",
    "    print(f\"Link: {link['href']}, Text: {link.text.strip()}\")"
   ]
  },
  {
   "cell_type": "code",
   "execution_count": null,
   "metadata": {},
   "outputs": [],
   "source": []
  },
  {
   "cell_type": "code",
   "execution_count": null,
   "metadata": {},
   "outputs": [],
   "source": []
  },
  {
   "cell_type": "code",
   "execution_count": 44,
   "metadata": {},
   "outputs": [
    {
     "name": "stdout",
     "output_type": "stream",
     "text": [
      "Container 1:\n",
      "Link: https://www.rxlist.com/supartz-fx-drug.htm, Text: Brand: Supartz FXGeneric: Sodium Hyaluronate Solution\n"
     ]
    }
   ],
   "source": [
    "import requests\n",
    "from bs4 import BeautifulSoup\n",
    "\n",
    "# URL of the page to scrape\n",
    "search_url = \"https://www.rxlist.com/search/rxl/paracetamol\"\n",
    "response = requests.get(search_url)\n",
    "\n",
    "# Parse the page content with BeautifulSoup\n",
    "soup = BeautifulSoup(response.text, \"html.parser\")\n",
    "\n",
    "# Find all divs with class 'searchresults main'\n",
    "containers = soup.find_all('div', class_=\"searchresults main\")\n",
    "\n",
    "# Iterate through each container to extract 'li' items\n",
    "for index, container in enumerate(containers, start=1):\n",
    "    print(f\"Container {index}:\")\n",
    "    items = container.find_all('li', limit=5)\n",
    "    for item in items:\n",
    "        link = item.find('a')\n",
    "        print(f\"Link: {link['href']}, Text: {link.text.strip()}\")\n"
   ]
  },
  {
   "cell_type": "code",
   "execution_count": null,
   "metadata": {},
   "outputs": [],
   "source": []
  },
  {
   "cell_type": "code",
   "execution_count": null,
   "metadata": {},
   "outputs": [],
   "source": []
  },
  {
   "cell_type": "code",
   "execution_count": null,
   "metadata": {},
   "outputs": [],
   "source": []
  },
  {
   "cell_type": "code",
   "execution_count": null,
   "metadata": {},
   "outputs": [],
   "source": [
    "<div class=\"searchresults main\">\n",
    "                        <h3>Drugs</h3>\n",
    "                        <ul style=\"height: 750px;\">\n",
    "                            <li><a href=\"https://www.rxlist.com/diclofenac/generic-drug.htm\"><span class=\"brand\">Generic: Diclofenac</span></a></li><li><a href=\"https://www.rxlist.com/arthrotec-drug.htm\"><span class=\"brand\">Brand: Arthrotec</span><span class=\"generic\">Generic: Diclofenac Sodium, Misoprostol</span></a></li><li><a href=\"https://www.rxlist.com/cambia-drug.htm\"><span class=\"brand\">Brand: Cambia</span><span class=\"generic\">Generic: Diclofenac Potassium for Oral Solution</span></a></li><li><a href=\"https://www.rxlist.com/cataflam-drug.htm\"><span class=\"brand\">Brand: Cataflam</span><span class=\"generic\">Generic: Diclofenac Potassium Immediate-Release Tablets</span></a></li><li><a href=\"https://www.rxlist.com/diclostream-drug.htm\"><span class=\"brand\">Brand: Diclostream</span><span class=\"generic\">Generic: Diclofenac Sodium 1.5% Solution and Menthol 10% Topical Liquid</span></a></li><li><a href=\"https://www.rxlist.com/diclozor-drug.htm\"><span class=\"brand\">Brand: Diclozor Gel</span><span class=\"generic\">Generic: Diclofenac Sodium Gel</span></a></li><li><a href=\"https://www.rxlist.com/dyloject-drug.htm\"><span class=\"brand\">Brand: Dyloject</span><span class=\"generic\">Generic: Diclofenac Sodium for Injection</span></a></li><li><a href=\"https://www.rxlist.com/flector-patch-drug.htm\"><span class=\"brand\">Brand: Flector Patch</span><span class=\"generic\">Generic: Diclofenac Epolamine Topical Patch</span></a></li><li><a href=\"https://www.rxlist.com/licart-drug.htm\"><span class=\"brand\">Brand: Licart</span><span class=\"generic\">Generic: Diclofenac Epolamine Topical System</span></a></li><li><a href=\"https://www.rxlist.com/lofena-drug.htm\"><span class=\"brand\">Brand: Lofena</span><span class=\"generic\">Generic: Diclofenac Potassium Tablets</span></a></li><li><a href=\"https://www.rxlist.com/pennsaid-drug.htm\"><span class=\"brand\">Brand: PENNSAID</span><span class=\"generic\">Generic: Diclofenac Sodium Topical Solution</span></a></li><li><a href=\"https://www.rxlist.com/solaraze-drug.htm\"><span class=\"brand\">Brand: Solaraze</span><span class=\"generic\">Generic: Diclofenac Sodium</span></a></li><li><a href=\"https://www.rxlist.com/voltaren-drug.htm\"><span class=\"brand\">Brand: Voltaren</span><span class=\"generic\">Generic: Diclofenac Sodium</span></a></li><li><a href=\"https://www.rxlist.com/voltaren-gel-drug.htm\"><span class=\"brand\">Brand: Voltaren Gel</span><span class=\"generic\">Generic: Diclofenac Sodium Gel</span></a></li><li><a href=\"https://www.rxlist.com/voltaren-ophthalmic-drug.htm\"><span class=\"brand\">Brand: Voltaren Ophthalmic</span><span class=\"generic\">Generic: Diclofenac Sodium Ophthalmic Solution</span></a></li><li><a href=\"https://www.rxlist.com/voltaren-xr-drug.htm\"><span class=\"brand\">Brand: Voltaren XR</span><span class=\"generic\">Generic: Diclofenac Sodium Extended-Release Tablets</span></a></li><li><a href=\"https://www.rxlist.com/zipsor-drug.htm\"><span class=\"brand\">Brand: Zipsor</span><span class=\"generic\">Generic: Diclofenac Potassium Liquid Filled Capsules</span></a></li><li><a href=\"https://www.rxlist.com/zorvolex-drug.htm\"><span class=\"brand\">Brand: Zorvolex</span><span class=\"generic\">Generic: Diclofenac Capsules</span></a></li><li><a href=\"https://www.rxlist.com/celebrex-drug.htm\"><span class=\"brand\">Brand: Celebrex</span><span class=\"generic\">Generic: Celecoxib</span></a></li><li><a href=\"https://www.rxlist.com/concensi-drug.htm\"><span class=\"brand\">Brand: Concensi</span><span class=\"generic\">Generic: Amlodipine and Celecoxib Tablet</span></a></li><li><a href=\"https://www.rxlist.com/xyrem-drug.htm\"><span class=\"brand\">Brand: Xyrem</span><span class=\"generic\">Generic: Sodium Oxybate</span></a></li><li><a href=\"https://www.rxlist.com/sandimmune-drug.htm\"><span class=\"brand\">Brand: Sandimmune</span><span class=\"generic\">Generic: Cyclosporine</span></a></li><li><a href=\"https://www.rxlist.com/gengraf-oral-solution-drug.htm\"><span class=\"brand\">Brand: Gengraf Oral Solution</span><span class=\"generic\">Generic: Cyclosporine Oral Solution</span></a></li><li><a href=\"https://www.rxlist.com/gengraf-capsules-drug.htm\"><span class=\"brand\">Brand: Gengraf Capsules</span><span class=\"generic\">Generic: Cyclosporine Capsules</span></a></li><li><a href=\"https://www.rxlist.com/neoral-drug.htm\"><span class=\"brand\">Brand: Neoral</span><span class=\"generic\">Generic: Cyclosporine</span></a></li>\n",
    "                        </ul>\n",
    "                        <div class=\"gradient\"></div>\n",
    "                        <div class=\"more\">\n",
    "                            <span class=\"icon-arrow-right2\"></span>\n",
    "                        </div>\n",
    "                    </div>"
   ]
  },
  {
   "cell_type": "code",
   "execution_count": 26,
   "metadata": {},
   "outputs": [
    {
     "name": "stdout",
     "output_type": "stream",
     "text": [
      "<Response [403]>\n"
     ]
    }
   ],
   "source": [
    "search_url = f\"https://www.webmd.com/search/search_results/default.aspx?query=malaria\"\n",
    "response = requests.get(search_url)\n",
    "print(response)"
   ]
  },
  {
   "cell_type": "code",
   "execution_count": null,
   "metadata": {},
   "outputs": [],
   "source": []
  },
  {
   "cell_type": "code",
   "execution_count": 19,
   "metadata": {},
   "outputs": [
    {
     "ename": "KeyError",
     "evalue": "'organic_results'",
     "output_type": "error",
     "traceback": [
      "\u001b[0;31m---------------------------------------------------------------------------\u001b[0m",
      "\u001b[0;31mKeyError\u001b[0m                                  Traceback (most recent call last)",
      "Cell \u001b[0;32mIn[19], line 1\u001b[0m\n\u001b[0;32m----> 1\u001b[0m \u001b[38;5;28mprint\u001b[39m(web_search(\u001b[38;5;124m\"\u001b[39m\u001b[38;5;124mWhat is malaria?\u001b[39m\u001b[38;5;124m\"\u001b[39m))\n",
      "Cell \u001b[0;32mIn[18], line 46\u001b[0m, in \u001b[0;36mweb_search\u001b[0;34m(query)\u001b[0m\n\u001b[1;32m     40\u001b[0m \u001b[38;5;66;03m#query = topic_contextualization(query)\u001b[39;00m\n\u001b[1;32m     41\u001b[0m search \u001b[38;5;241m=\u001b[39m GoogleSearch({\n\u001b[1;32m     42\u001b[0m     \u001b[38;5;241m*\u001b[39m\u001b[38;5;241m*\u001b[39mserpapi_params,\n\u001b[1;32m     43\u001b[0m     \u001b[38;5;124m\"\u001b[39m\u001b[38;5;124mq\u001b[39m\u001b[38;5;124m\"\u001b[39m: query,\n\u001b[1;32m     44\u001b[0m     \u001b[38;5;124m\"\u001b[39m\u001b[38;5;124mnum\u001b[39m\u001b[38;5;124m\"\u001b[39m: \u001b[38;5;241m5\u001b[39m\n\u001b[1;32m     45\u001b[0m })\n\u001b[0;32m---> 46\u001b[0m results \u001b[38;5;241m=\u001b[39m search\u001b[38;5;241m.\u001b[39mget_dict()[\u001b[38;5;124m\"\u001b[39m\u001b[38;5;124morganic_results\u001b[39m\u001b[38;5;124m\"\u001b[39m]\n\u001b[1;32m     47\u001b[0m contexts \u001b[38;5;241m=\u001b[39m \u001b[38;5;124m\"\u001b[39m\u001b[38;5;130;01m\\n\u001b[39;00m\u001b[38;5;124m---\u001b[39m\u001b[38;5;130;01m\\n\u001b[39;00m\u001b[38;5;124m\"\u001b[39m\u001b[38;5;241m.\u001b[39mjoin(\n\u001b[1;32m     48\u001b[0m     [\u001b[38;5;124m\"\u001b[39m\u001b[38;5;130;01m\\n\u001b[39;00m\u001b[38;5;124m\"\u001b[39m\u001b[38;5;241m.\u001b[39mjoin([x[\u001b[38;5;124m\"\u001b[39m\u001b[38;5;124mtitle\u001b[39m\u001b[38;5;124m\"\u001b[39m], x[\u001b[38;5;124m\"\u001b[39m\u001b[38;5;124msnippet\u001b[39m\u001b[38;5;124m\"\u001b[39m], x[\u001b[38;5;124m\"\u001b[39m\u001b[38;5;124mlink\u001b[39m\u001b[38;5;124m\"\u001b[39m]]) \u001b[38;5;28;01mfor\u001b[39;00m x \u001b[38;5;129;01min\u001b[39;00m results]\n\u001b[1;32m     49\u001b[0m )\n\u001b[1;32m     50\u001b[0m \u001b[38;5;28mprint\u001b[39m(contexts)\n",
      "\u001b[0;31mKeyError\u001b[0m: 'organic_results'"
     ]
    }
   ],
   "source": [
    "print(web_search(\"What is malaria?\"))"
   ]
  },
  {
   "cell_type": "code",
   "execution_count": 14,
   "metadata": {},
   "outputs": [
    {
     "name": "stdout",
     "output_type": "stream",
     "text": [
      "<Response [403]>\n"
     ]
    }
   ],
   "source": [
    "query = \"what is malaria?\"\n",
    "search_url = f\"https://www.webmd.com/search/search_results/default.aspx?query={query}\"\n",
    "response = requests.get(search_url)\n",
    "print(response)"
   ]
  },
  {
   "cell_type": "code",
   "execution_count": null,
   "metadata": {},
   "outputs": [],
   "source": []
  }
 ],
 "metadata": {
  "kernelspec": {
   "display_name": "base",
   "language": "python",
   "name": "python3"
  },
  "language_info": {
   "codemirror_mode": {
    "name": "ipython",
    "version": 3
   },
   "file_extension": ".py",
   "mimetype": "text/x-python",
   "name": "python",
   "nbconvert_exporter": "python",
   "pygments_lexer": "ipython3",
   "version": "3.11.4"
  }
 },
 "nbformat": 4,
 "nbformat_minor": 2
}
